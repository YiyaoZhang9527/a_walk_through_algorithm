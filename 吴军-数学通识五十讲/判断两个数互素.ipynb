{
 "cells": [
  {
   "cell_type": "code",
   "execution_count": 1,
   "metadata": {},
   "outputs": [],
   "source": [
    "import math"
   ]
  },
  {
   "cell_type": "markdown",
   "metadata": {},
   "source": [
    "## 第一步，辗转相除法求最大公约数\n",
    "#### 辗转相除法就是用余数重新变成除数，上一次的除数变成被除数不断除下去直到余数为0\n",
    "#### 当余数为0时，除数就是最大公约数"
   ]
  },
  {
   "cell_type": "code",
   "execution_count": 2,
   "metadata": {},
   "outputs": [],
   "source": [
    "a = 1112\n",
    "b = 695"
   ]
  },
  {
   "cell_type": "code",
   "execution_count": 3,
   "metadata": {},
   "outputs": [
    {
     "data": {
      "text/plain": [
       "139"
      ]
     },
     "execution_count": 3,
     "metadata": {},
     "output_type": "execute_result"
    }
   ],
   "source": [
    "def mod(a,b):\n",
    "    return a%b\n",
    "\n",
    "def gcd(m,n):\n",
    "    # 需要用大数除以小数，所以先判断哪个数字更大\n",
    "    # 用递归一次直接把大数变成a小数变成b\n",
    "    if m < n:\n",
    "        return gcd(n,m)\n",
    "\n",
    "    # 先判断第一次求余是否为0 如果为0则循环不继续 被除数n就是最大公约数\n",
    "    remainder = mod(m,n)\n",
    "    while remainder != 0: # 如果余数不为0就继续循环除\n",
    "        m = n # 交换除数位置将原本的被除数放到除数的位置上\n",
    "        n = remainder # 将上一次的余数变成除数\n",
    "        remainder = mod(m,n) # 求余数\n",
    "\n",
    "    return n\n",
    "\n",
    "gcd(a,b)"
   ]
  },
  {
   "cell_type": "markdown",
   "metadata": {},
   "source": [
    "## 第二步，判断两个数是否互质的条件\n",
    "#### 引用自:https://baijiahao.baidu.com/s?id=1716372978608865581&wfr=spider&for=pc\n",
    "\n",
    "#### 1.当两个数的最大公约数为1，且两个数非0的自然数，则称这两个数互质\n",
    "#### 2.两个不同的质数，互为质数\n",
    "#### 3.1和任何自然数互质\n",
    "#### 4.一个质数和一个合数这两个数不是倍数关系时互质\n",
    "#### 5.不含相同质因数的两个合数互质\n",
    "#### 6.任何两个相邻的数互质\n"
   ]
  },
  {
   "cell_type": "markdown",
   "metadata": {},
   "source": [
    "## 1.最简实现步骤\n",
    "## 直接用定义判断\n"
   ]
  },
  {
   "cell_type": "code",
   "execution_count": 4,
   "metadata": {},
   "outputs": [
    {
     "data": {
      "text/plain": [
       "True"
      ]
     },
     "execution_count": 4,
     "metadata": {},
     "output_type": "execute_result"
    }
   ],
   "source": [
    "def is_coprime(a,b):\n",
    "    if a:\n",
    "        if b:\n",
    "            if gcd(a,b) ==1:\n",
    "                return True\n",
    "            else:\n",
    "                return False\n",
    "        return \"b must not be equal to 0 \"\n",
    "    return \"a must not be equal to 0 \"\n",
    "\n",
    "is_coprime(3,2)"
   ]
  },
  {
   "cell_type": "markdown",
   "metadata": {},
   "source": [
    "## 优化实现\n",
    "\n",
    "#### 第一步，两个不同的质数互为质数，所以先写一个质数判断函数\n",
    "#### 质数的定义：一个大于1的自然数，除了1和它自身外，不能被其他自然数整除的数叫做质数；否则称为合数（规定1既不是质数也不是合数）\n",
    "#### 基本判断思路:\n",
    "##### 在一般领域，对正整数n，如果用2到$\\sqrt{2}$之间的所有整数去除，均无法整除，则n为质数。\n",
    "##### 质数大于等于2 不能被它本身和1以外的数整除"
   ]
  },
  {
   "cell_type": "code",
   "execution_count": 5,
   "metadata": {},
   "outputs": [
    {
     "data": {
      "text/plain": [
       "True"
      ]
     },
     "execution_count": 5,
     "metadata": {},
     "output_type": "execute_result"
    }
   ],
   "source": [
    "def is_prime(n):\n",
    "    if n > 1 :\n",
    "        for i in range(2, (int(math.sqrt(n))+1) ):\n",
    "            remainder = mod(n,i)\n",
    "            if remainder == 0:\n",
    "                return False\n",
    "        return True\n",
    "    return False\n",
    "\n",
    "is_prime(2)"
   ]
  },
  {
   "cell_type": "markdown",
   "metadata": {},
   "source": [
    "#### 当一个质量数和一个合数不是倍数关系时互质\n",
    "#### 所以再写一个判断合数的函数，大于1且不是质数的自然数就是合数"
   ]
  },
  {
   "cell_type": "code",
   "execution_count": 6,
   "metadata": {},
   "outputs": [
    {
     "data": {
      "text/plain": [
       "True"
      ]
     },
     "execution_count": 6,
     "metadata": {},
     "output_type": "execute_result"
    }
   ],
   "source": [
    "def is_composite(n):\n",
    "    if n > 1:\n",
    "        if is_prime(n):\n",
    "            return False\n",
    "        else:\n",
    "            return True\n",
    "    return False\n",
    "\n",
    "is_composite(4)"
   ]
  },
  {
   "cell_type": "markdown",
   "metadata": {},
   "source": [
    "#### 1和任何自然数互质"
   ]
  },
  {
   "cell_type": "code",
   "execution_count": 7,
   "metadata": {},
   "outputs": [
    {
     "data": {
      "text/plain": [
       "True"
      ]
     },
     "execution_count": 7,
     "metadata": {},
     "output_type": "execute_result"
    }
   ],
   "source": [
    "def if_one_in_here(m,n):\n",
    "    if m==1:\n",
    "        return True\n",
    "        if n==1:\n",
    "            return True\n",
    "    \n",
    "if_one_in_here(1,2)"
   ]
  },
  {
   "cell_type": "markdown",
   "metadata": {},
   "source": [
    "#### 分解质因数"
   ]
  },
  {
   "cell_type": "code",
   "execution_count": 11,
   "metadata": {},
   "outputs": [
    {
     "name": "stdout",
     "output_type": "stream",
     "text": [
      "1 =  1\n"
     ]
    }
   ],
   "source": [
    "def reduceNum(n):\n",
    "    print ('{} = '.format(n), end=\" \")\n",
    "    if not isinstance(n, int) or n <= 0 :\n",
    "        print ('请输入一个正确的数字 !')\n",
    "        exit(0)\n",
    "    elif n in [1] :\n",
    "        print ('{}'.format(n))\n",
    "    while n not in [1] : # 循环保证递归\n",
    "        for index in range(2, n + 1) :\n",
    "            if n % index == 0:\n",
    "                n //= index # n 等于 n//index\n",
    "                if n == 1: \n",
    "                    print (index )\n",
    "                else : # index 一定是素数\n",
    "                    print ('{} *'.format(index), end=\" \")\n",
    "                break\n",
    "reduceNum(1)"
   ]
  },
  {
   "cell_type": "code",
   "execution_count": 15,
   "metadata": {},
   "outputs": [
    {
     "data": {
      "text/plain": [
       "4"
      ]
     },
     "execution_count": 15,
     "metadata": {},
     "output_type": "execute_result"
    }
   ],
   "source": []
  },
  {
   "cell_type": "code",
   "execution_count": null,
   "metadata": {},
   "outputs": [],
   "source": []
  }
 ],
 "metadata": {
  "interpreter": {
   "hash": "96f436a406a5f2700913a78b9cee4ebfeaf93d0631f6d9e4a782fff9b4ed3aea"
  },
  "kernelspec": {
   "display_name": "Python 3 (ipykernel)",
   "language": "python",
   "name": "python3"
  },
  "language_info": {
   "codemirror_mode": {
    "name": "ipython",
    "version": 3
   },
   "file_extension": ".py",
   "mimetype": "text/x-python",
   "name": "python",
   "nbconvert_exporter": "python",
   "pygments_lexer": "ipython3",
   "version": "3.8.13"
  }
 },
 "nbformat": 4,
 "nbformat_minor": 4
}
